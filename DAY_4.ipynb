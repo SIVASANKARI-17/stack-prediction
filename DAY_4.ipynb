{
  "nbformat": 4,
  "nbformat_minor": 0,
  "metadata": {
    "colab": {
      "provenance": [],
      "authorship_tag": "ABX9TyNsSQiob4AaelQwyoMN2bb5",
      "include_colab_link": true
    },
    "kernelspec": {
      "name": "python3",
      "display_name": "Python 3"
    },
    "language_info": {
      "name": "python"
    }
  },
  "cells": [
    {
      "cell_type": "markdown",
      "metadata": {
        "id": "view-in-github",
        "colab_type": "text"
      },
      "source": [
        "<a href=\"https://colab.research.google.com/github/SIVASANKARI-17/stack-prediction/blob/main/DAY_4.ipynb\" target=\"_parent\"><img src=\"https://colab.research.google.com/assets/colab-badge.svg\" alt=\"Open In Colab\"/></a>"
      ]
    },
    {
      "cell_type": "markdown",
      "source": [
        "1"
      ],
      "metadata": {
        "id": "d8ttZMQzPCDO"
      }
    },
    {
      "cell_type": "code",
      "source": [
        "import pandas as pd\n",
        "import numpy as np\n",
        "import matplotlib.pyplot as plt\n",
        "\n",
        "# Sample DataFrame with missing values and duplicates\n",
        "data = {\n",
        "    \"Name\": [\"Alice\", \"Bob\", \"Charlie\", \"David\", \"Eve\", \"Alice\"],\n",
        "    \"Age\": [25, np.nan, 30, 35, np.nan, 25],\n",
        "    \"Marks\": [80, 90, np.nan, 70, 85, 80],\n",
        "    \"Attendance\": [np.nan, 95, 80, 75, 90, np.nan],\n",
        "    \"Passed\": [\"Yes\", \"No\", \"Yes\", np.nan, \"Yes\", \"Yes\"]\n",
        "}\n",
        "\n",
        "df = pd.DataFrame(data)\n",
        "print(\"Original DataFrame:\")\n",
        "print(df)\n",
        "\n",
        "# Identifying missing values\n",
        "print(\"\\nMissing values count:\")\n",
        "print(df.isnull().sum())\n",
        "\n",
        "# Removing rows with missing values\n",
        "df_cleaned = df.dropna()\n",
        "print(\"\\nDataFrame after dropping missing values:\")\n",
        "print(df_cleaned)\n",
        "\n",
        "# Filling missing values\n",
        "# Numerical columns\n",
        "df = df.assign(\n",
        "    Age=df[\"Age\"].fillna(df[\"Age\"].mean()),\n",
        "    Marks=df[\"Marks\"].fillna(df[\"Marks\"].median()),\n",
        "    Attendance=df[\"Attendance\"].fillna(df[\"Attendance\"].mean()),\n",
        "    Passed=df[\"Passed\"].fillna(df[\"Passed\"].mode()[0])\n",
        ")\n",
        "\n",
        "print(\"\\nDataFrame after filling missing values:\")\n",
        "print(df)\n",
        "\n",
        "# Removing duplicate rows\n",
        "df.drop_duplicates(inplace=True)\n",
        "print(\"\\nDataFrame after removing duplicates:\")\n",
        "print(df)\n",
        "\n",
        "# Detecting outliers using Box Plot\n",
        "plt.figure(figsize=(8, 4))\n",
        "df.boxplot(column=[\"Age\", \"Marks\", \"Attendance\"])\n",
        "plt.title(\"Box Plot for Outlier Detection\")\n",
        "plt.show()\n",
        "\n",
        "# Detecting outliers using Z-score\n",
        "from scipy import stats\n",
        "z_scores = np.abs(stats.zscore(df.select_dtypes(include=[np.number])))\n",
        "outliers = (z_scores > 3).any(axis=1)\n",
        "print(\"\\nOutliers detected:\")\n",
        "print(df[outliers])"
      ],
      "metadata": {
        "colab": {
          "base_uri": "https://localhost:8080/",
          "height": 1000
        },
        "id": "DEyqblAPPFlW",
        "outputId": "b8ac32dd-d459-4ea4-d351-a67eac47f621"
      },
      "execution_count": null,
      "outputs": [
        {
          "output_type": "stream",
          "name": "stdout",
          "text": [
            "Original DataFrame:\n",
            "      Name   Age  Marks  Attendance Passed\n",
            "0    Alice  25.0   80.0         NaN    Yes\n",
            "1      Bob   NaN   90.0        95.0     No\n",
            "2  Charlie  30.0    NaN        80.0    Yes\n",
            "3    David  35.0   70.0        75.0    NaN\n",
            "4      Eve   NaN   85.0        90.0    Yes\n",
            "5    Alice  25.0   80.0         NaN    Yes\n",
            "\n",
            "Missing values count:\n",
            "Name          0\n",
            "Age           2\n",
            "Marks         1\n",
            "Attendance    2\n",
            "Passed        1\n",
            "dtype: int64\n",
            "\n",
            "DataFrame after dropping missing values:\n",
            "Empty DataFrame\n",
            "Columns: [Name, Age, Marks, Attendance, Passed]\n",
            "Index: []\n",
            "\n",
            "DataFrame after filling missing values:\n",
            "      Name    Age  Marks  Attendance Passed\n",
            "0    Alice  25.00   80.0        85.0    Yes\n",
            "1      Bob  28.75   90.0        95.0     No\n",
            "2  Charlie  30.00   80.0        80.0    Yes\n",
            "3    David  35.00   70.0        75.0    Yes\n",
            "4      Eve  28.75   85.0        90.0    Yes\n",
            "5    Alice  25.00   80.0        85.0    Yes\n",
            "\n",
            "DataFrame after removing duplicates:\n",
            "      Name    Age  Marks  Attendance Passed\n",
            "0    Alice  25.00   80.0        85.0    Yes\n",
            "1      Bob  28.75   90.0        95.0     No\n",
            "2  Charlie  30.00   80.0        80.0    Yes\n",
            "3    David  35.00   70.0        75.0    Yes\n",
            "4      Eve  28.75   85.0        90.0    Yes\n"
          ]
        },
        {
          "output_type": "display_data",
          "data": {
            "text/plain": [
              "<Figure size 800x400 with 1 Axes>"
            ],
            "image/png": "[encoded data removed]"
          },
          "metadata": {}
        },
        {
          "output_type": "stream",
          "name": "stdout",
          "text": [
            "\n",
            "Outliers detected:\n",
            "Empty DataFrame\n",
            "Columns: [Name, Age, Marks, Attendance, Passed]\n",
            "Index: []\n"
          ]
        }
      ]
    },
    {
      "cell_type": "markdown",
      "source": [
        "2"
      ],
      "metadata": {
        "id": "DsuIQbgkQSLO"
      }
    },
    {
      "cell_type": "code",
      "source": [
        "import pandas as pd\n",
        "import numpy as np\n",
        "from sklearn.preprocessing import StandardScaler, MinMaxScaler, LabelEncoder\n",
        "\n",
        "# Creating a sample dataset\n",
        "data = {\n",
        "    \"Name\": [\"Alice\", \"Bob\", \"Charlie\", \"David\", \"Eve\"],\n",
        "    \"Marks\": [85, 78, 92, 60, 75],\n",
        "    \"Attendance\": [90, 80, 85, 70, 75],\n",
        "    \"Passed\": [\"Yes\", \"No\", \"Yes\", \"No\", \"Yes\"]\n",
        "}\n",
        "\n",
        "df = pd.DataFrame(data)\n",
        "print(\"Original Dataset:\\n\", df)\n",
        "# Standardization (Mean = 0, Standard Deviation = 1)\n",
        "scaler = StandardScaler()\n",
        "df_scaled = df.copy()\n",
        "df_scaled[[\"Marks\", \"Attendance\"]] = scaler.fit_transform(df[[\"Marks\", \"Attendance\"]])\n",
        "\n",
        "print(\"Dataset after Standard Scaling:\\n\", df_scaled)\n",
        "\n",
        "# Normalization (Values between 0 and 1)\n",
        "scaler = MinMaxScaler()\n",
        "df_scaled[[\"Marks\", \"Attendance\"]] = scaler.fit_transform(df[[\"Marks\", \"Attendance\"]])"
      ],
      "metadata": {
        "colab": {
          "base_uri": "https://localhost:8080/"
        },
        "id": "0g8hHl2rQTCm",
        "outputId": "4ad78b93-d86e-40eb-9abd-b5be7e132d43"
      },
      "execution_count": null,
      "outputs": [
        {
          "output_type": "stream",
          "name": "stdout",
          "text": [
            "Original Dataset:\n",
            "       Name  Marks  Attendance Passed\n",
            "0    Alice     85          90    Yes\n",
            "1      Bob     78          80     No\n",
            "2  Charlie     92          85    Yes\n",
            "3    David     60          70     No\n",
            "4      Eve     75          75    Yes\n",
            "Dataset after Standard Scaling:\n",
            "       Name     Marks  Attendance Passed\n",
            "0    Alice  0.651057    1.414214    Yes\n",
            "1      Bob  0.000000    0.000000     No\n",
            "2  Charlie  1.302114    0.707107    Yes\n",
            "3    David -1.674147   -1.414214     No\n",
            "4      Eve -0.279024   -0.707107    Yes\n"
          ]
        }
      ]
    },
    {
      "cell_type": "markdown",
      "source": [
        "3"
      ],
      "metadata": {
        "id": "4048QQXPQu4e"
      }
    },
    {
      "cell_type": "code",
      "source": [
        "import pandas as pd\n",
        "import numpy as np\n",
        "# Creating a sample dataset\n",
        "data = {\n",
        "    \"Name\": [\"Alice\", \"Bob\", \"Charlie\", \"David\", \"Eve\"],\n",
        "    \"Marks\": [85, 78, 92, 60, 75],\n",
        "    \"Age\": [19, 22, 20, 24, 21]\n",
        "}\n",
        "\n",
        "df = pd.DataFrame(data)\n",
        "print(\"Original Dataset:\\n\", df)\n",
        "# Define function to categorize performance based on marks\n",
        "def performance_category(marks):\n",
        "    if marks >= 85:\n",
        "        return \"High\"\n",
        "    elif marks >= 70:\n",
        "        return \"Medium\"\n",
        "    else:\n",
        "        return \"Low\"\n",
        "\n",
        "# Apply function to create new column\n",
        "df[\"Performance\"] = df[\"Marks\"].apply(performance_category)\n",
        "\n",
        "print(\"Dataset after Performance Category:\\n\", df)\n",
        "# Creating Age Groups using binning\n",
        "df[\"Age_Group\"] = pd.cut(df[\"Age\"], bins=[18, 21, 24, 27], labels=[\"Young\", \"Adult\", \"Senior\"])\n",
        "\n",
        "print(\"Dataset after Age Grouping:\\n\", df)"
      ],
      "metadata": {
        "colab": {
          "base_uri": "https://localhost:8080/"
        },
        "id": "IwXFyb2MQv7G",
        "outputId": "9a386828-5519-4a4d-b1c2-5f86b93a2586"
      },
      "execution_count": null,
      "outputs": [
        {
          "output_type": "stream",
          "name": "stdout",
          "text": [
            "Original Dataset:\n",
            "       Name  Marks  Age\n",
            "0    Alice     85   19\n",
            "1      Bob     78   22\n",
            "2  Charlie     92   20\n",
            "3    David     60   24\n",
            "4      Eve     75   21\n",
            "Dataset after Performance Category:\n",
            "       Name  Marks  Age Performance\n",
            "0    Alice     85   19        High\n",
            "1      Bob     78   22      Medium\n",
            "2  Charlie     92   20        High\n",
            "3    David     60   24         Low\n",
            "4      Eve     75   21      Medium\n",
            "Dataset after Age Grouping:\n",
            "       Name  Marks  Age Performance Age_Group\n",
            "0    Alice     85   19        High     Young\n",
            "1      Bob     78   22      Medium     Adult\n",
            "2  Charlie     92   20        High     Young\n",
            "3    David     60   24         Low     Adult\n",
            "4      Eve     75   21      Medium     Young\n"
          ]
        }
      ]
    }
  ]
}