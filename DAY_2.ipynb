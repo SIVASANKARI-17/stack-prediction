{
  "nbformat": 4,
  "nbformat_minor": 0,
  "metadata": {
    "colab": {
      "provenance": [],
      "authorship_tag": "ABX9TyP7anlGdnrNgGZhG/DsPUMN",
      "include_colab_link": true
    },
    "kernelspec": {
      "name": "python3",
      "display_name": "Python 3"
    },
    "language_info": {
      "name": "python"
    }
  },
  "cells": [
    {
      "cell_type": "markdown",
      "metadata": {
        "id": "view-in-github",
        "colab_type": "text"
      },
      "source": [
        "<a href=\"https://colab.research.google.com/github/SIVASANKARI-17/stack-prediction/blob/main/DAY_2.ipynb\" target=\"_parent\"><img src=\"https://colab.research.google.com/assets/colab-badge.svg\" alt=\"Open In Colab\"/></a>"
      ]
    },
    {
      "cell_type": "code",
      "source": [
        "import numpy as np\n",
        "import pandas as pd\n",
        "patient_name = \"Alice\"\n",
        "patient_age = 45\n",
        "patient_bmi = 27.5\n",
        "print(\"Patient Name:\", patient_name)\n",
        "print(\"Patient Age:\", patient_age)\n",
        "print(\"Patient BMI:\", patient_bmi)"
      ],
      "metadata": {
        "colab": {
          "base_uri": "https://localhost:8080/"
        },
        "id": "6XH-4W3F_nuC",
        "outputId": "181e8dd9-b1d5-4494-8553-ef4450cc23dd"
      },
      "execution_count": null,
      "outputs": [
        {
          "output_type": "stream",
          "name": "stdout",
          "text": [
            "Patient Name: Alice\n",
            "Patient Age: 45\n",
            "Patient BMI: 27.5\n"
          ]
        }
      ]
    },
    {
      "cell_type": "markdown",
      "source": [
        "2"
      ],
      "metadata": {
        "id": "EKdsTrXC_52b"
      }
    },
    {
      "cell_type": "markdown",
      "source": [
        "1"
      ],
      "metadata": {
        "id": "uwkquVn-_l26"
      }
    },
    {
      "cell_type": "code",
      "source": [
        "def category(bmi):\n",
        "    if bmi < 28.5:\n",
        "        return \"Normal\"\n",
        "    else:\n",
        "        return \"Overweight\"\n",
        "\n",
        "patient_name = \"Alice\"\n",
        "patient_bmi = 24.5\n",
        "category = category(patient_bmi)\n",
        "\n",
        "print(\"Patient Name:\",patient_name)\n",
        "print(\"BMI:\",patient_bmi)\n",
        "print(\"BMI Category:\",category)"
      ],
      "metadata": {
        "colab": {
          "base_uri": "https://localhost:8080/"
        },
        "id": "51fpS0pv_68K",
        "outputId": "25f84ec6-5c44-46b9-947c-7247f31a3f53"
      },
      "execution_count": null,
      "outputs": [
        {
          "output_type": "stream",
          "name": "stdout",
          "text": [
            "Patient Name: Alice\n",
            "BMI: 24.5\n",
            "BMI Category: Normal\n"
          ]
        }
      ]
    },
    {
      "cell_type": "markdown",
      "source": [
        "3"
      ],
      "metadata": {
        "id": "iaTkzlGoASiC"
      }
    },
    {
      "cell_type": "code",
      "source": [
        "import numpy as np\n",
        "\n",
        "heart_rates = np.array([72, 78, 80, 75, 74, 79, 77])\n",
        "average_heart_rate = np.mean(heart_rates)\n",
        "highest_heart_rate = np.max(heart_rates)\n",
        "lowest_heart_rate = np.min(heart_rates)\n",
        "\n",
        "print(\"Heart Rate Readings for the Week:\", heart_rates)\n",
        "print(\"Average Heart Rate:\",np.mean(heart_rates))\n",
        "print(\"Highest Heart Rate:\",np.max(heart_rates))\n",
        "print(\"Lowest Heart Rate:\",np.min(heart_rates))"
      ],
      "metadata": {
        "colab": {
          "base_uri": "https://localhost:8080/"
        },
        "id": "V8Tx5cvAAT6a",
        "outputId": "e4cae25e-7142-4308-c616-daeda9d99746"
      },
      "execution_count": null,
      "outputs": [
        {
          "output_type": "stream",
          "name": "stdout",
          "text": [
            "Heart Rate Readings for the Week: [72 78 80 75 74 79 77]\n",
            "Average Heart Rate: 76.42857142857143\n",
            "Highest Heart Rate: 80\n",
            "Lowest Heart Rate: 72\n"
          ]
        }
      ]
    },
    {
      "cell_type": "markdown",
      "source": [
        "4"
      ],
      "metadata": {
        "id": "qUv29dFuAdS6"
      }
    },
    {
      "cell_type": "code",
      "source": [
        "import pandas as pd\n",
        "\n",
        "data = {\n",
        "    \"Name\": [\"Alice\", \"Bob\", \"Charlie\", \"David\"],\n",
        "    \"Age\": [45, 52, 37, 60],\n",
        "    \"Cholesterol Level (mg/dL)\": [190, 220, 175, 240]\n",
        "}\n",
        "patient_df = pd.DataFrame(data)\n",
        "print(\"Patient Record DataFrame:\")\n",
        "print(patient_df)"
      ],
      "metadata": {
        "id": "FHHOWcwqAeky",
        "colab": {
          "base_uri": "https://localhost:8080/"
        },
        "outputId": "12d819e2-2cd7-49d6-95a5-a36ba4a0e6b1"
      },
      "execution_count": null,
      "outputs": [
        {
          "output_type": "stream",
          "name": "stdout",
          "text": [
            "Patient Record DataFrame:\n",
            "      Name  Age  Cholesterol Level (mg/dL)\n",
            "0    Alice   45                        190\n",
            "1      Bob   52                        220\n",
            "2  Charlie   37                        175\n",
            "3    David   60                        240\n"
          ]
        }
      ]
    },
    {
      "cell_type": "markdown",
      "source": [
        "5"
      ],
      "metadata": {
        "id": "kLoNoDOlGhED"
      }
    },
    {
      "cell_type": "code",
      "source": [
        "import pandas as pd\n",
        "data = {\n",
        "    \"Name\": [\"Alice\", \"Bob\", \"Charlie\", \"David\", \"Eve\"],\n",
        "    \"Age\": [45, 52, 37, 60, 55],\n",
        "    \"Cholesterol Level (mg/dL)\": [190, 220, 175, 240, 210]\n",
        "}\n",
        "\n",
        "patient_df = pd.DataFrame(data)\n",
        "cholesterol_threshold = 200\n",
        "high_risk = patient_df[patient_df[\"Cholesterol Level (mg/dL)\"] > cholesterol_threshold]\n",
        "print(\"High-Risk Patients :\")\n",
        "print(high_risk)"
      ],
      "metadata": {
        "colab": {
          "base_uri": "https://localhost:8080/"
        },
        "id": "5w356U8BGiAu",
        "outputId": "7f1b40b2-d023-4939-f3cf-a5e022037af3"
      },
      "execution_count": null,
      "outputs": [
        {
          "output_type": "stream",
          "name": "stdout",
          "text": [
            "High-Risk Patients :\n",
            "    Name  Age  Cholesterol Level (mg/dL)\n",
            "1    Bob   52                        220\n",
            "3  David   60                        240\n",
            "4    Eve   55                        210\n"
          ]
        }
      ]
    },
    {
      "cell_type": "markdown",
      "source": [
        "6"
      ],
      "metadata": {
        "id": "c3DSIgiDG5vW"
      }
    },
    {
      "cell_type": "code",
      "source": [
        "import pandas as pd\n",
        "data = {\n",
        "    \"Name\": [\"Alice\", \"Bob\",\"Charlie\", \"David\", \"Eve\"],\n",
        "    \"Age\": [45, 52, 37, 60, 55],\n",
        "    \"BMI\": [27.5, 30.2, 22.8, 33.1, 25.6]\n",
        "}\n",
        "patient_df = pd.DataFrame(data)\n",
        "sorted = patient_df.sort_values(by=\"BMI\", ascending=False)\n",
        "print(\"Patients Sorted by BMI (Highest to Lowest):\")\n",
        "print(sorted)"
      ],
      "metadata": {
        "colab": {
          "base_uri": "https://localhost:8080/"
        },
        "id": "SlPRzK4WG6jX",
        "outputId": "3addf76d-6f28-4ef0-ed7d-9a04acf89ecc"
      },
      "execution_count": null,
      "outputs": [
        {
          "output_type": "stream",
          "name": "stdout",
          "text": [
            "Patients Sorted by BMI (Highest to Lowest):\n",
            "      Name  Age   BMI\n",
            "3    David   60  33.1\n",
            "1      Bob   52  30.2\n",
            "0    Alice   45  27.5\n",
            "4      Eve   55  25.6\n",
            "2  Charlie   37  22.8\n"
          ]
        }
      ]
    },
    {
      "cell_type": "markdown",
      "source": [
        "7"
      ],
      "metadata": {
        "id": "RkWCPm93HBdu"
      }
    },
    {
      "cell_type": "code",
      "source": [
        "import pandas as pd\n",
        "data = {\n",
        "    \"Name\": [ \"Alice\", \"Bob\", \"Charlie\", \"David\",\"Eve\"],\n",
        "    \"Age\": [45, 52, 37, 60, 55],\n",
        "    \"BMI\": [27.5, 30.2, 22.8, 33.1, 25.6],\n",
        "    \"Cholesterol Level (mg/dL)\": [190, 220, 175, 240, 210]\n",
        "}\n",
        "patient_df = pd.DataFrame(data)\n",
        "def classify_risk(bmi, cholesterol):\n",
        "    if bmi >= 30 or cholesterol > 220:\n",
        "        return \"High\"\n",
        "    elif bmi >= 25 or cholesterol > 200:\n",
        "        return \"Medium\"\n",
        "    else:\n",
        "        return \"Low\"\n",
        "patient_df[\"Risk Level\"] = patient_df.apply(lambda row: classify_risk(row[\"BMI\"], row[\"Cholesterol Level (mg/dL)\"]), axis=1)\n",
        "print(\"Patients with Risk Level Classification:\")\n",
        "print(patient_df)"
      ],
      "metadata": {
        "colab": {
          "base_uri": "https://localhost:8080/"
        },
        "id": "KFLolIS7HCo3",
        "outputId": "83aa2667-14d7-4c91-ebf5-9e7791de5ba5"
      },
      "execution_count": null,
      "outputs": [
        {
          "output_type": "stream",
          "name": "stdout",
          "text": [
            "Patients with Risk Level Classification:\n",
            "      Name  Age   BMI  Cholesterol Level (mg/dL) Risk Level\n",
            "0    Alice   45  27.5                        190     Medium\n",
            "1      Bob   52  30.2                        220       High\n",
            "2  Charlie   37  22.8                        175        Low\n",
            "3    David   60  33.1                        240       High\n",
            "4      Eve   55  25.6                        210     Medium\n"
          ]
        }
      ]
    },
    {
      "cell_type": "markdown",
      "source": [
        "8"
      ],
      "metadata": {
        "id": "Lxy9BaoLHIeG"
      }
    },
    {
      "cell_type": "code",
      "source": [
        "from google.colab import files\n",
        "uploaded = files.upload() # Upload your CSV file\n",
        "df = pd.read_csv(\"patient_dataset.csv\") # Replace with your file name\n",
        "df.head()"
      ],
      "metadata": {
        "colab": {
          "base_uri": "https://localhost:8080/"
        },
        "id": "vfg8ZuIhHKUW",
        "outputId": "6c5a7e12-fe50-49ae-d792-53ceec5a3330"
      },
      "execution_count": null,
      "outputs": [
        {
          "data": {
            "text/html": [
              "\n",
              "     <input type=\"file\" id=\"files-7c0b9304-25eb-46b4-80d7-5f3272104d30\" name=\"files[]\" multiple disabled\n",
              "        style=\"border:none\" />\n",
              "     <output id=\"result-7c0b9304-25eb-46b4-80d7-5f3272104d30\">\n",
              "      Upload widget is only available when the cell has been executed in the\n",
              "      current browser session. Please rerun this cell to enable.\n",
              "      </output>\n",
              "      <script>// Copyright 2017 Google LLC\n",
              "//\n",
              "// Licensed under the Apache License, Version 2.0 (the \"License\");\n",
              "// you may not use this file except in compliance with the License.\n",
              "// You may obtain a copy of the License at\n",
              "//\n",
              "//      http://www.apache.org/licenses/LICENSE-2.0\n",
              "//\n",
              "// Unless required by applicable law or agreed to in writing, software\n",
              "// distributed under the License is distributed on an \"AS IS\" BASIS,\n",
              "// WITHOUT WARRANTIES OR CONDITIONS OF ANY KIND, either express or implied.\n",
              "// See the License for the specific language governing permissions and\n",
              "// limitations under the License.\n",
              "\n",
              "/**\n",
              " * @fileoverview Helpers for google.colab Python module.\n",
              " */\n",
              "(function(scope) {\n",
              "function span(text, styleAttributes = {}) {\n",
              "  const element = document.createElement('span');\n",
              "  element.textContent = text;\n",
              "  for (const key of Object.keys(styleAttributes)) {\n",
              "    element.style[key] = styleAttributes[key];\n",
              "  }\n",
              "  return element;\n",
              "}\n",
              "\n",
              "// Max number of bytes which will be uploaded at a time.\n",
              "const MAX_PAYLOAD_SIZE = 100 * 1024;\n",
              "\n",
              "function _uploadFiles(inputId, outputId) {\n",
              "  const steps = uploadFilesStep(inputId, outputId);\n",
              "  const outputElement = document.getElementById(outputId);\n",
              "  // Cache steps on the outputElement to make it available for the next call\n",
              "  // to uploadFilesContinue from Python.\n",
              "  outputElement.steps = steps;\n",
              "\n",
              "  return _uploadFilesContinue(outputId);\n",
              "}\n",
              "\n",
              "// This is roughly an async generator (not supported in the browser yet),\n",
              "// where there are multiple asynchronous steps and the Python side is going\n",
              "// to poll for completion of each step.\n",
              "// This uses a Promise to block the python side on completion of each step,\n",
              "// then passes the result of the previous step as the input to the next step.\n",
              "function _uploadFilesContinue(outputId) {\n",
              "  const outputElement = document.getElementById(outputId);\n",
              "  const steps = outputElement.steps;\n",
              "\n",
              "  const next = steps.next(outputElement.lastPromiseValue);\n",
              "  return Promise.resolve(next.value.promise).then((value) => {\n",
              "    // Cache the last promise value to make it available to the next\n",
              "    // step of the generator.\n",
              "    outputElement.lastPromiseValue = value;\n",
              "    return next.value.response;\n",
              "  });\n",
              "}\n",
              "\n",
              "/**\n",
              " * Generator function which is called between each async step of the upload\n",
              " * process.\n",
              " * @param {string} inputId Element ID of the input file picker element.\n",
              " * @param {string} outputId Element ID of the output display.\n",
              " * @return {!Iterable<!Object>} Iterable of next steps.\n",
              " */\n",
              "function* uploadFilesStep(inputId, outputId) {\n",
              "  const inputElement = document.getElementById(inputId);\n",
              "  inputElement.disabled = false;\n",
              "\n",
              "  const outputElement = document.getElementById(outputId);\n",
              "  outputElement.innerHTML = '';\n",
              "\n",
              "  const pickedPromise = new Promise((resolve) => {\n",
              "    inputElement.addEventListener('change', (e) => {\n",
              "      resolve(e.target.files);\n",
              "    });\n",
              "  });\n",
              "\n",
              "  const cancel = document.createElement('button');\n",
              "  inputElement.parentElement.appendChild(cancel);\n",
              "  cancel.textContent = 'Cancel upload';\n",
              "  const cancelPromise = new Promise((resolve) => {\n",
              "    cancel.onclick = () => {\n",
              "      resolve(null);\n",
              "    };\n",
              "  });\n",
              "\n",
              "  // Wait for the user to pick the files.\n",
              "  const files = yield {\n",
              "    promise: Promise.race([pickedPromise, cancelPromise]),\n",
              "    response: {\n",
              "      action: 'starting',\n",
              "    }\n",
              "  };\n",
              "\n",
              "  cancel.remove();\n",
              "\n",
              "  // Disable the input element since further picks are not allowed.\n",
              "  inputElement.disabled = true;\n",
              "\n",
              "  if (!files) {\n",
              "    return {\n",
              "      response: {\n",
              "        action: 'complete',\n",
              "      }\n",
              "    };\n",
              "  }\n",
              "\n",
              "  for (const file of files) {\n",
              "    const li = document.createElement('li');\n",
              "    li.append(span(file.name, {fontWeight: 'bold'}));\n",
              "    li.append(span(\n",
              "        `(${file.type || 'n/a'}) - ${file.size} bytes, ` +\n",
              "        `last modified: ${\n",
              "            file.lastModifiedDate ? file.lastModifiedDate.toLocaleDateString() :\n",
              "                                    'n/a'} - `));\n",
              "    const percent = span('0% done');\n",
              "    li.appendChild(percent);\n",
              "\n",
              "    outputElement.appendChild(li);\n",
              "\n",
              "    const fileDataPromise = new Promise((resolve) => {\n",
              "      const reader = new FileReader();\n",
              "      reader.onload = (e) => {\n",
              "        resolve(e.target.result);\n",
              "      };\n",
              "      reader.readAsArrayBuffer(file);\n",
              "    });\n",
              "    // Wait for the data to be ready.\n",
              "    let fileData = yield {\n",
              "      promise: fileDataPromise,\n",
              "      response: {\n",
              "        action: 'continue',\n",
              "      }\n",
              "    };\n",
              "\n",
              "    // Use a chunked sending to avoid message size limits. See b/62115660.\n",
              "    let position = 0;\n",
              "    do {\n",
              "      const length = Math.min(fileData.byteLength - position, MAX_PAYLOAD_SIZE);\n",
              "      const chunk = new Uint8Array(fileData, position, length);\n",
              "      position += length;\n",
              "\n",
              "      const base64 = btoa(String.fromCharCode.apply(null, chunk));\n",
              "      yield {\n",
              "        response: {\n",
              "          action: 'append',\n",
              "          file: file.name,\n",
              "          data: base64,\n",
              "        },\n",
              "      };\n",
              "\n",
              "      let percentDone = fileData.byteLength === 0 ?\n",
              "          100 :\n",
              "          Math.round((position / fileData.byteLength) * 100);\n",
              "      percent.textContent = `${percentDone}% done`;\n",
              "\n",
              "    } while (position < fileData.byteLength);\n",
              "  }\n",
              "\n",
              "  // All done.\n",
              "  yield {\n",
              "    response: {\n",
              "      action: 'complete',\n",
              "    }\n",
              "  };\n",
              "}\n",
              "\n",
              "scope.google = scope.google || {};\n",
              "scope.google.colab = scope.google.colab || {};\n",
              "scope.google.colab._files = {\n",
              "  _uploadFiles,\n",
              "  _uploadFilesContinue,\n",
              "};\n",
              "})(self);\n",
              "</script> "
            ],
            "text/plain": [
              "<IPython.core.display.HTML object>"
            ]
          },
          "metadata": {},
          "output_type": "display_data"
        }
      ]
    },
    {
      "cell_type": "markdown",
      "source": [
        "9"
      ],
      "metadata": {
        "id": "PK8B73mSHT9m"
      }
    },
    {
      "cell_type": "code",
      "source": [
        "df.to_csv(\"cleaned_patient_data.csv\", index=False)\n",
        "files.download(\"cleaned_patient_data.csv\") # Download the file"
      ],
      "metadata": {
        "id": "htMY7iH5HVAv"
      },
      "execution_count": null,
      "outputs": []
    }
  ]
}